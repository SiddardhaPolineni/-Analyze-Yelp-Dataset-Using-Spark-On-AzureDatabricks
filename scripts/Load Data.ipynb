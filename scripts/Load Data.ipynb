{
 "cells": [
  {
   "cell_type": "markdown",
   "metadata": {
    "application/vnd.databricks.v1+cell": {
     "cellMetadata": {},
     "inputWidgets": {},
     "nuid": "1054a3fe-8606-4e6e-96fb-f601d7ac269e",
     "showTitle": false,
     "title": ""
    }
   },
   "source": [
    "#### Read the parquet files stored in ADLS Gen2 using ABFS and create respective data frames"
   ]
  },
  {
   "cell_type": "code",
   "execution_count": 0,
   "metadata": {
    "application/vnd.databricks.v1+cell": {
     "cellMetadata": {},
     "inputWidgets": {},
     "nuid": "ee2a8637-d6c0-4a4d-888c-868668d253de",
     "showTitle": false,
     "title": ""
    }
   },
   "outputs": [],
   "source": [
    "df_business = spark.read.parquet(\"abfss://raw@sadataanalysisyelp.dfs.core.windows.net/json_to_parquet/yelp_academic_dataset_business.parquet\")"
   ]
  },
  {
   "cell_type": "code",
   "execution_count": 0,
   "metadata": {
    "application/vnd.databricks.v1+cell": {
     "cellMetadata": {},
     "inputWidgets": {},
     "nuid": "689febfd-bb11-43bb-a3ef-f2b47cc3b8a4",
     "showTitle": false,
     "title": ""
    }
   },
   "outputs": [],
   "source": [
    "df_check_in = spark.read.parquet(\"abfss://raw@sadataanalysisyelp.dfs.core.windows.net/json_to_parquet/yelp_academic_dataset_checkin.parquet\")"
   ]
  },
  {
   "cell_type": "code",
   "execution_count": 0,
   "metadata": {
    "application/vnd.databricks.v1+cell": {
     "cellMetadata": {},
     "inputWidgets": {},
     "nuid": "f135f2ad-111b-46f3-be32-d172d1d69dbf",
     "showTitle": false,
     "title": ""
    }
   },
   "outputs": [],
   "source": [
    "df_review = spark.read.parquet(\"abfss://raw@sadataanalysisyelp.dfs.core.windows.net/json_to_parquet/yelp_academic_dataset_review.parquet\")"
   ]
  },
  {
   "cell_type": "code",
   "execution_count": 0,
   "metadata": {
    "application/vnd.databricks.v1+cell": {
     "cellMetadata": {},
     "inputWidgets": {},
     "nuid": "f3c46573-23a5-440c-926e-05c907a74c3b",
     "showTitle": false,
     "title": ""
    }
   },
   "outputs": [],
   "source": [
    "df_tip = spark.read.parquet(\"abfss://raw@sadataanalysisyelp.dfs.core.windows.net/json_to_parquet/yelp_academic_dataset_tip.parquet\")"
   ]
  },
  {
   "cell_type": "code",
   "execution_count": 0,
   "metadata": {
    "application/vnd.databricks.v1+cell": {
     "cellMetadata": {},
     "inputWidgets": {},
     "nuid": "1a5af5b2-ca81-4a6a-bb32-23b179602b0c",
     "showTitle": false,
     "title": ""
    }
   },
   "outputs": [],
   "source": [
    "df_user = spark.read.parquet(\"abfss://raw@sadataanalysisyelp.dfs.core.windows.net/json_to_parquet/yelp_academic_dataset_user.parquet\")"
   ]
  }
 ],
 "metadata": {
  "application/vnd.databricks.v1+notebook": {
   "dashboards": [],
   "environmentMetadata": null,
   "language": "python",
   "notebookMetadata": {
    "pythonIndentUnit": 4
   },
   "notebookName": "Load Data",
   "widgets": {}
  }
 },
 "nbformat": 4,
 "nbformat_minor": 0
}

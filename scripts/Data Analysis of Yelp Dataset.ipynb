{
 "cells": [
  {
   "cell_type": "code",
   "execution_count": 0,
   "metadata": {
    "application/vnd.databricks.v1+cell": {
     "cellMetadata": {
      "byteLimit": 2048000,
      "rowLimit": 10000
     },
     "inputWidgets": {},
     "nuid": "6727e2b3-8072-4f3e-bbc1-84192cb57139",
     "showTitle": false,
     "title": ""
    }
   },
   "outputs": [],
   "source": [
    "%run \"../Yelp Data Analysis/ADLS Gen2 Config\""
   ]
  },
  {
   "cell_type": "code",
   "execution_count": 0,
   "metadata": {
    "application/vnd.databricks.v1+cell": {
     "cellMetadata": {
      "byteLimit": 2048000,
      "rowLimit": 10000
     },
     "inputWidgets": {},
     "nuid": "373054fb-af0c-453b-9da1-e28c7f400925",
     "showTitle": false,
     "title": ""
    }
   },
   "outputs": [],
   "source": [
    "%run \"../Yelp Data Analysis/Convert JSON to Parquet\""
   ]
  },
  {
   "cell_type": "code",
   "execution_count": 0,
   "metadata": {
    "application/vnd.databricks.v1+cell": {
     "cellMetadata": {
      "byteLimit": 2048000,
      "rowLimit": 10000
     },
     "inputWidgets": {},
     "nuid": "649d2b8d-e88f-4101-917a-8326e8d45047",
     "showTitle": false,
     "title": ""
    }
   },
   "outputs": [],
   "source": [
    "%run \"../Yelp Data Analysis/Load Data\""
   ]
  },
  {
   "cell_type": "code",
   "execution_count": 0,
   "metadata": {
    "application/vnd.databricks.v1+cell": {
     "cellMetadata": {
      "byteLimit": 2048000,
      "rowLimit": 10000
     },
     "inputWidgets": {},
     "nuid": "559f7d4c-f69c-42da-a09b-c381384a4184",
     "showTitle": false,
     "title": ""
    }
   },
   "outputs": [],
   "source": [
    "from pyspark.sql.functions import col, to_date, year, month, desc, count, row_number, rank\n",
    "from pyspark.sql import Window\n",
    "from pyspark.sql.functions import broadcast"
   ]
  },
  {
   "cell_type": "markdown",
   "metadata": {
    "application/vnd.databricks.v1+cell": {
     "cellMetadata": {
      "byteLimit": 2048000,
      "rowLimit": 10000
     },
     "inputWidgets": {},
     "nuid": "da13d9d7-db40-4f10-82d3-295beb972fc3",
     "showTitle": false,
     "title": ""
    }
   },
   "source": [
    "##### Covert JSON to DELTA"
   ]
  },
  {
   "cell_type": "code",
   "execution_count": 0,
   "metadata": {
    "application/vnd.databricks.v1+cell": {
     "cellMetadata": {
      "byteLimit": 2048000,
      "rowLimit": 10000
     },
     "inputWidgets": {},
     "nuid": "886516b9-af36-4ef1-84d7-c904b0905504",
     "showTitle": false,
     "title": ""
    }
   },
   "outputs": [],
   "source": [
    "df_business = spark.read.json(\"abfss://raw@sadataanalysisyelp.dfs.core.windows.net/yelp_academic_dataset_business.json\")\n",
    "df_business.write.mode(\"overwrite\").parquet(\"abfss://raw@sadataanalysisyelp.dfs.core.windows.net/json_to_delta/yelp_academic_dataset_business.delta\")"
   ]
  },
  {
   "cell_type": "markdown",
   "metadata": {
    "application/vnd.databricks.v1+cell": {
     "cellMetadata": {
      "byteLimit": 2048000,
      "rowLimit": 10000
     },
     "inputWidgets": {},
     "nuid": "454ee38d-b584-469f-8d2f-8c0588ae0cd4",
     "showTitle": false,
     "title": ""
    }
   },
   "source": [
    "#### Partition tip dataset by year and month using date column"
   ]
  },
  {
   "cell_type": "code",
   "execution_count": 0,
   "metadata": {
    "application/vnd.databricks.v1+cell": {
     "cellMetadata": {
      "byteLimit": 2048000,
      "rowLimit": 10000
     },
     "inputWidgets": {},
     "nuid": "629b10ae-3bff-48de-a9c4-39a77919870d",
     "showTitle": false,
     "title": ""
    }
   },
   "outputs": [],
   "source": [
    "df_tip = df_tip.withColumn(\"tip_year\", year(to_date(col(\"date\"))))\n",
    "df_tip = df_tip.withColumn(\"tip_month\", month(to_date(col(\"date\"))))\n",
    "\n",
    "df_tip.write.mode(\"overwrite\").partitionBy(\"tip_year\",\"tip_month\").parquet(\"abfss://raw@sadataanalysisyelp.dfs.core.windows.net/tip_partitioned_by_year_and_month/\")\n"
   ]
  },
  {
   "cell_type": "markdown",
   "metadata": {
    "application/vnd.databricks.v1+cell": {
     "cellMetadata": {
      "byteLimit": 2048000,
      "rowLimit": 10000
     },
     "inputWidgets": {},
     "nuid": "f20cf29c-2464-4b75-baa6-459bc6dd494e",
     "showTitle": false,
     "title": ""
    }
   },
   "source": [
    "#### repartition vs coalesce"
   ]
  },
  {
   "cell_type": "code",
   "execution_count": 0,
   "metadata": {
    "application/vnd.databricks.v1+cell": {
     "cellMetadata": {
      "byteLimit": 2048000,
      "rowLimit": 10000
     },
     "inputWidgets": {},
     "nuid": "e9e910c5-8151-4d56-9985-5a1c8f3f11f5",
     "showTitle": false,
     "title": ""
    }
   },
   "outputs": [],
   "source": [
    "df_reduced_partitions = df_user.coalesce(10)\n",
    "\n",
    "df_increased_paritions = df_user.repartition(30)"
   ]
  },
  {
   "cell_type": "code",
   "execution_count": 0,
   "metadata": {
    "application/vnd.databricks.v1+cell": {
     "cellMetadata": {
      "byteLimit": 2048000,
      "rowLimit": 10000
     },
     "inputWidgets": {},
     "nuid": "f3b73358-dac0-4daa-b1eb-de8a58f4b70b",
     "showTitle": false,
     "title": ""
    }
   },
   "outputs": [],
   "source": [
    "df_user.coalesce(10).write.mode(\"overwrite\").parquet(\"abfss://raw@sadataanalysisyelp.dfs.core.windows.net/coalesce/user.parquet\")\n",
    "\n",
    "df_user.repartition(10).write.mode(\"overwrite\").parquet(\"abfss://raw@sadataanalysisyelp.dfs.core.windows.net/repartition/user.parquet\")"
   ]
  },
  {
   "cell_type": "markdown",
   "metadata": {
    "application/vnd.databricks.v1+cell": {
     "cellMetadata": {
      "byteLimit": 2048000,
      "rowLimit": 10000
     },
     "inputWidgets": {},
     "nuid": "807b5239-e2ed-4e4e-8e7d-5bfc2652f77c",
     "showTitle": false,
     "title": ""
    }
   },
   "source": [
    "#### Find the top 3 users based on their total number of reviews."
   ]
  },
  {
   "cell_type": "code",
   "execution_count": 0,
   "metadata": {
    "application/vnd.databricks.v1+cell": {
     "cellMetadata": {
      "byteLimit": 2048000,
      "rowLimit": 10000
     },
     "inputWidgets": {},
     "nuid": "b8e829b9-70f6-4036-8f57-72738fa742d0",
     "showTitle": false,
     "title": ""
    }
   },
   "outputs": [],
   "source": [
    "df_user.createOrReplaceTempView(\"user\")"
   ]
  },
  {
   "cell_type": "code",
   "execution_count": 0,
   "metadata": {
    "application/vnd.databricks.v1+cell": {
     "cellMetadata": {
      "byteLimit": 2048000,
      "implicitDf": true,
      "rowLimit": 10000
     },
     "inputWidgets": {},
     "nuid": "36cde201-558e-49b7-97d8-0a9b28180bf8",
     "showTitle": false,
     "title": ""
    }
   },
   "outputs": [
    {
     "output_type": "display_data",
     "data": {
      "text/html": [
       "<style scoped>\n",
       "  .table-result-container {\n",
       "    max-height: 300px;\n",
       "    overflow: auto;\n",
       "  }\n",
       "  table, th, td {\n",
       "    border: 1px solid black;\n",
       "    border-collapse: collapse;\n",
       "  }\n",
       "  th, td {\n",
       "    padding: 5px;\n",
       "  }\n",
       "  th {\n",
       "    text-align: left;\n",
       "  }\n",
       "</style><div class='table-result-container'><table class='table-result'><thead style='background-color: white'><tr><th>user_id</th><th>name</th><th>review_count</th></tr></thead><tbody><tr><td>Hi10sGSZNxQH3NLyWSZ1oA</td><td>Fox</td><td>17473</td></tr><tr><td>8k3aO-mPeyhbR5HUucA5aA</td><td>Victor</td><td>16978</td></tr><tr><td>hWDybu_KvYLSdEFzGrniTw</td><td>Bruce</td><td>16567</td></tr></tbody></table></div>"
      ]
     },
     "metadata": {
      "application/vnd.databricks.v1+output": {
       "addedWidgets": {},
       "aggData": [],
       "aggError": "",
       "aggOverflow": false,
       "aggSchema": [],
       "aggSeriesLimitReached": false,
       "aggType": "",
       "arguments": {},
       "columnCustomDisplayInfos": {},
       "data": [
        [
         "Hi10sGSZNxQH3NLyWSZ1oA",
         "Fox",
         17473
        ],
        [
         "8k3aO-mPeyhbR5HUucA5aA",
         "Victor",
         16978
        ],
        [
         "hWDybu_KvYLSdEFzGrniTw",
         "Bruce",
         16567
        ]
       ],
       "datasetInfos": [],
       "dbfsResultPath": null,
       "isJsonSchema": true,
       "metadata": {},
       "overflow": false,
       "plotOptions": {
        "customPlotOptions": {},
        "displayType": "table",
        "pivotAggregation": null,
        "pivotColumns": null,
        "xColumns": null,
        "yColumns": null
       },
       "removedWidgets": [],
       "schema": [
        {
         "metadata": "{}",
         "name": "user_id",
         "type": "\"string\""
        },
        {
         "metadata": "{}",
         "name": "name",
         "type": "\"string\""
        },
        {
         "metadata": "{}",
         "name": "review_count",
         "type": "\"long\""
        }
       ],
       "type": "table"
      }
     },
     "output_type": "display_data"
    }
   ],
   "source": [
    "%sql\n",
    "select\n",
    "  user_id,\n",
    "  name,\n",
    "  review_count\n",
    "from\n",
    "  user\n",
    "order by\n",
    "  review_count desc\n",
    "limit\n",
    "  3;"
   ]
  },
  {
   "cell_type": "markdown",
   "metadata": {
    "application/vnd.databricks.v1+cell": {
     "cellMetadata": {
      "byteLimit": 2048000,
      "rowLimit": 10000
     },
     "inputWidgets": {},
     "nuid": "acc774b4-2473-4613-a663-0d5be5ab620a",
     "showTitle": false,
     "title": ""
    }
   },
   "source": [
    "#### Find the top 10 users with the most fans"
   ]
  },
  {
   "cell_type": "code",
   "execution_count": 0,
   "metadata": {
    "application/vnd.databricks.v1+cell": {
     "cellMetadata": {
      "byteLimit": 2048000,
      "rowLimit": 10000
     },
     "inputWidgets": {},
     "nuid": "70750484-40bd-4843-91c5-0d1d6dcc0e5e",
     "showTitle": false,
     "title": ""
    }
   },
   "outputs": [],
   "source": [
    "df_top_10 = df_user.select(\"user_id\",\"name\",\"fans\").orderBy(desc(col(\"fans\")))"
   ]
  },
  {
   "cell_type": "code",
   "execution_count": 0,
   "metadata": {
    "application/vnd.databricks.v1+cell": {
     "cellMetadata": {
      "byteLimit": 2048000,
      "implicitDf": true,
      "rowLimit": 10000
     },
     "inputWidgets": {},
     "nuid": "115da24a-c1cc-49e4-97ee-a0cb317185bb",
     "showTitle": false,
     "title": ""
    }
   },
   "outputs": [
    {
     "output_type": "display_data",
     "data": {
      "text/html": [
       "<style scoped>\n",
       "  .table-result-container {\n",
       "    max-height: 300px;\n",
       "    overflow: auto;\n",
       "  }\n",
       "  table, th, td {\n",
       "    border: 1px solid black;\n",
       "    border-collapse: collapse;\n",
       "  }\n",
       "  th, td {\n",
       "    padding: 5px;\n",
       "  }\n",
       "  th {\n",
       "    text-align: left;\n",
       "  }\n",
       "</style><div class='table-result-container'><table class='table-result'><thead style='background-color: white'><tr><th>user_id</th><th>name</th><th>fans</th></tr></thead><tbody><tr><td>37cpUoM8hlkSQfReIEBd-Q</td><td>Mike</td><td>12497</td></tr><tr><td>hizGc5W1tBHPghM5YKCAtg</td><td>Katie</td><td>3642</td></tr><tr><td>Hi10sGSZNxQH3NLyWSZ1oA</td><td>Fox</td><td>3493</td></tr><tr><td>JjXuiru1_ONzDkYVrHN0aw</td><td>Richard</td><td>3243</td></tr><tr><td>j14WgRoU_-2ZE1aw1dXrJg</td><td>Daniel</td><td>3138</td></tr><tr><td>VHdY6oG2JPVNjihWhOooAQ</td><td>Jessica</td><td>2627</td></tr><tr><td>iLjMdZi0Tm7DQxX1C1_2dg</td><td>Ruggy</td><td>2547</td></tr><tr><td>lt7bNHl-TXziny4FETu8nA</td><td>Megan</td><td>2451</td></tr><tr><td>fgwI3rYHOv1ipfVfCSx7pg</td><td>Emi</td><td>2424</td></tr><tr><td>ITa3vh5ERI90G_WP4SmGUQ</td><td>Peter</td><td>2388</td></tr></tbody></table></div>"
      ]
     },
     "metadata": {
      "application/vnd.databricks.v1+output": {
       "addedWidgets": {},
       "aggData": [],
       "aggError": "",
       "aggOverflow": false,
       "aggSchema": [],
       "aggSeriesLimitReached": false,
       "aggType": "",
       "arguments": {},
       "columnCustomDisplayInfos": {},
       "data": [
        [
         "37cpUoM8hlkSQfReIEBd-Q",
         "Mike",
         12497
        ],
        [
         "hizGc5W1tBHPghM5YKCAtg",
         "Katie",
         3642
        ],
        [
         "Hi10sGSZNxQH3NLyWSZ1oA",
         "Fox",
         3493
        ],
        [
         "JjXuiru1_ONzDkYVrHN0aw",
         "Richard",
         3243
        ],
        [
         "j14WgRoU_-2ZE1aw1dXrJg",
         "Daniel",
         3138
        ],
        [
         "VHdY6oG2JPVNjihWhOooAQ",
         "Jessica",
         2627
        ],
        [
         "iLjMdZi0Tm7DQxX1C1_2dg",
         "Ruggy",
         2547
        ],
        [
         "lt7bNHl-TXziny4FETu8nA",
         "Megan",
         2451
        ],
        [
         "fgwI3rYHOv1ipfVfCSx7pg",
         "Emi",
         2424
        ],
        [
         "ITa3vh5ERI90G_WP4SmGUQ",
         "Peter",
         2388
        ]
       ],
       "datasetInfos": [],
       "dbfsResultPath": null,
       "isJsonSchema": true,
       "metadata": {},
       "overflow": false,
       "plotOptions": {
        "customPlotOptions": {},
        "displayType": "table",
        "pivotAggregation": null,
        "pivotColumns": null,
        "xColumns": null,
        "yColumns": null
       },
       "removedWidgets": [],
       "schema": [
        {
         "metadata": "{}",
         "name": "user_id",
         "type": "\"string\""
        },
        {
         "metadata": "{}",
         "name": "name",
         "type": "\"string\""
        },
        {
         "metadata": "{}",
         "name": "fans",
         "type": "\"long\""
        }
       ],
       "type": "table"
      }
     },
     "output_type": "display_data"
    }
   ],
   "source": [
    "%sql\n",
    "select\n",
    "  user_id,\n",
    "  name,\n",
    "  fans\n",
    "from\n",
    "  user\n",
    "order by\n",
    "  fans desc\n",
    "limit\n",
    "  10"
   ]
  },
  {
   "cell_type": "markdown",
   "metadata": {
    "application/vnd.databricks.v1+cell": {
     "cellMetadata": {
      "byteLimit": 2048000,
      "rowLimit": 10000
     },
     "inputWidgets": {},
     "nuid": "cc841e61-15a4-4ee8-a338-726f8c260193",
     "showTitle": false,
     "title": ""
    }
   },
   "source": [
    "#### Analyse the top 10 categories by a number of reviews."
   ]
  },
  {
   "cell_type": "code",
   "execution_count": 0,
   "metadata": {
    "application/vnd.databricks.v1+cell": {
     "cellMetadata": {
      "byteLimit": 2048000,
      "rowLimit": 10000
     },
     "inputWidgets": {},
     "nuid": "bfb77c85-9740-4320-9f7f-e5b42102045a",
     "showTitle": false,
     "title": ""
    }
   },
   "outputs": [],
   "source": [
    "df_business_review = df_business.groupBy(col(\"categories\")).agg(count(col(\"review_count\")).alias(\"total_reviews_count\"))\n",
    "\n",
    "df_business_review = df_business_review.withColumn(\"rnk\", row_number().over(Window.orderBy(desc(\"total_reviews_count\"))))\n",
    "df_business_top_10 = df_business_review.filter(col(\"rnk\")<=10)\n",
    "\n"
   ]
  },
  {
   "cell_type": "markdown",
   "metadata": {
    "application/vnd.databricks.v1+cell": {
     "cellMetadata": {
      "byteLimit": 2048000,
      "rowLimit": 10000
     },
     "inputWidgets": {},
     "nuid": "65d0071f-7382-4567-81c1-e62adc31fb43",
     "showTitle": false,
     "title": ""
    }
   },
   "source": [
    "#### Analyse top businesses which have over 1000 reviews."
   ]
  },
  {
   "cell_type": "code",
   "execution_count": 0,
   "metadata": {
    "application/vnd.databricks.v1+cell": {
     "cellMetadata": {
      "byteLimit": 2048000,
      "rowLimit": 10000
     },
     "inputWidgets": {},
     "nuid": "747afb84-2118-486e-8b2a-826a9174ee04",
     "showTitle": false,
     "title": ""
    }
   },
   "outputs": [],
   "source": [
    "df_business_1000 = df_business_review.filter(col(\"total_reviews_count\")>1000)"
   ]
  },
  {
   "cell_type": "markdown",
   "metadata": {
    "application/vnd.databricks.v1+cell": {
     "cellMetadata": {
      "byteLimit": 2048000,
      "rowLimit": 10000
     },
     "inputWidgets": {},
     "nuid": "9b35b05f-df60-42d1-b400-97ea3848d9e9",
     "showTitle": false,
     "title": ""
    }
   },
   "source": [
    "#### Analyse Business Data: Number of restaurants per state."
   ]
  },
  {
   "cell_type": "code",
   "execution_count": 0,
   "metadata": {
    "application/vnd.databricks.v1+cell": {
     "cellMetadata": {
      "byteLimit": 2048000,
      "rowLimit": 10000
     },
     "inputWidgets": {},
     "nuid": "c45c3dd5-9497-489a-be9b-c3c48e6e9942",
     "showTitle": false,
     "title": ""
    }
   },
   "outputs": [],
   "source": [
    "df_restraunts_per_state = df_business.groupBy(\"state\").count().orderBy(desc(\"count\"))"
   ]
  },
  {
   "cell_type": "markdown",
   "metadata": {
    "application/vnd.databricks.v1+cell": {
     "cellMetadata": {
      "byteLimit": 2048000,
      "rowLimit": 10000
     },
     "inputWidgets": {},
     "nuid": "c34202a1-a1ec-494b-b637-e9c2fd6b2755",
     "showTitle": false,
     "title": ""
    }
   },
   "source": [
    "#### Analyze the top 3 restaurants in each state."
   ]
  },
  {
   "cell_type": "code",
   "execution_count": 0,
   "metadata": {
    "application/vnd.databricks.v1+cell": {
     "cellMetadata": {
      "byteLimit": 2048000,
      "rowLimit": 10000
     },
     "inputWidgets": {},
     "nuid": "8cac88e5-d71f-494c-bf7f-552095cb4f05",
     "showTitle": false,
     "title": ""
    }
   },
   "outputs": [],
   "source": [
    "df_business_rnk = df_business.withColumn(\"rnk\", row_number().over(Window.partitionBy(\"state\").orderBy(\"review_count\")))\n",
    "df_top_3_restraunts = df_business_rnk.filter(col(\"rnk\")<=3)"
   ]
  },
  {
   "cell_type": "markdown",
   "metadata": {
    "application/vnd.databricks.v1+cell": {
     "cellMetadata": {
      "byteLimit": 2048000,
      "rowLimit": 10000
     },
     "inputWidgets": {},
     "nuid": "6483367d-445c-4b5c-9757-770790e5a35f",
     "showTitle": false,
     "title": ""
    }
   },
   "source": [
    "#### List the top restaurants in a state by the number of reviews."
   ]
  },
  {
   "cell_type": "code",
   "execution_count": 0,
   "metadata": {
    "application/vnd.databricks.v1+cell": {
     "cellMetadata": {
      "byteLimit": 2048000,
      "rowLimit": 10000
     },
     "inputWidgets": {},
     "nuid": "469a25df-bb9c-4b3e-8b04-b32609800e2b",
     "showTitle": false,
     "title": ""
    }
   },
   "outputs": [],
   "source": [
    "df_restraunts = df_business.withColumn(\"rnk\",row_number().over(Window.partitionBy(\"state\").orderBy(desc(\"review_count\"))))\n",
    "df_top_restraunts = df_restraunts.filter((col(\"rnk\")<=10) & (col(\"state\") == 'AZ'))"
   ]
  },
  {
   "cell_type": "markdown",
   "metadata": {
    "application/vnd.databricks.v1+cell": {
     "cellMetadata": {
      "byteLimit": 2048000,
      "rowLimit": 10000
     },
     "inputWidgets": {},
     "nuid": "43aad9b0-36b6-491b-b26f-99cfb77a53b1",
     "showTitle": false,
     "title": ""
    }
   },
   "source": [
    "#### Numbers of restaurants in Arizona state per city."
   ]
  },
  {
   "cell_type": "code",
   "execution_count": 0,
   "metadata": {
    "application/vnd.databricks.v1+cell": {
     "cellMetadata": {
      "byteLimit": 2048000,
      "rowLimit": 10000
     },
     "inputWidgets": {},
     "nuid": "694f94eb-173d-43dd-8c49-3c8159c779b0",
     "showTitle": false,
     "title": ""
    }
   },
   "outputs": [],
   "source": [
    "df_business_AZ = df_business.filter(col(\"state\")=='AZ')\n",
    "df_business_AZ_city = df_business_AZ.groupBy(\"city\").count().orderBy(desc(\"count\"))"
   ]
  },
  {
   "cell_type": "markdown",
   "metadata": {
    "application/vnd.databricks.v1+cell": {
     "cellMetadata": {
      "byteLimit": 2048000,
      "rowLimit": 10000
     },
     "inputWidgets": {},
     "nuid": "60f376ab-2599-4c1c-98eb-525c7511bd75",
     "showTitle": false,
     "title": ""
    }
   },
   "source": [
    "#### select city with most no of restraunts in AZ"
   ]
  },
  {
   "cell_type": "code",
   "execution_count": 0,
   "metadata": {
    "application/vnd.databricks.v1+cell": {
     "cellMetadata": {
      "byteLimit": 2048000,
      "rowLimit": 10000
     },
     "inputWidgets": {},
     "nuid": "51fb76b2-1638-4597-aaba-332c98572fc4",
     "showTitle": false,
     "title": ""
    }
   },
   "outputs": [],
   "source": [
    "df_city_restraunt_az = df_business_AZ_city.withColumn(\"rnk\",rank().over(Window.orderBy(desc(\"count\"))))\n",
    "df_city_restraunt_az = df_city_restraunt_az.filter(col(\"rnk\")==1)"
   ]
  },
  {
   "cell_type": "markdown",
   "metadata": {
    "application/vnd.databricks.v1+cell": {
     "cellMetadata": {
      "byteLimit": 2048000,
      "rowLimit": 10000
     },
     "inputWidgets": {},
     "nuid": "6204c381-d617-4545-a2b9-6cabfd4ddb09",
     "showTitle": false,
     "title": ""
    }
   },
   "source": [
    "#### Broadcast Join: restaurants as per review ratings in AZ state top city."
   ]
  },
  {
   "cell_type": "code",
   "execution_count": 0,
   "metadata": {
    "application/vnd.databricks.v1+cell": {
     "cellMetadata": {
      "byteLimit": 2048000,
      "rowLimit": 10000
     },
     "inputWidgets": {},
     "nuid": "e67162c5-137e-42e0-a657-0f63abcdea47",
     "showTitle": false,
     "title": ""
    }
   },
   "outputs": [],
   "source": [
    "df_best_restraunts = df_business.join(broadcast(df_city_restraunt_az),\"city\",\"inner\")\n",
    "df_best_restraunts = df_best_restraunts.groupBy(\"name\",\"stars\").agg(count(col(\"review_count\")).alias(\"review_count\"))\n",
    "df_best_restraunts = df_best_restraunts.filter(col(\"review_count\")>=10)\n",
    "df_best_restraunts = df_best_restraunts.filter(col(\"stars\")>=3)"
   ]
  },
  {
   "cell_type": "markdown",
   "metadata": {
    "application/vnd.databricks.v1+cell": {
     "cellMetadata": {
      "byteLimit": 2048000,
      "rowLimit": 10000
     },
     "inputWidgets": {},
     "nuid": "630cbb78-874c-4576-8ff1-8d18ea951c0c",
     "showTitle": false,
     "title": ""
    }
   },
   "source": [
    "#### Most rated Italian restaurant in AZ."
   ]
  },
  {
   "cell_type": "code",
   "execution_count": 0,
   "metadata": {
    "application/vnd.databricks.v1+cell": {
     "cellMetadata": {
      "byteLimit": 2048000,
      "rowLimit": 10000
     },
     "inputWidgets": {},
     "nuid": "5da1e035-7575-4e85-b75a-b8a387638f26",
     "showTitle": false,
     "title": ""
    }
   },
   "outputs": [],
   "source": [
    "df_Italian = df_business_AZ.filter(col(\"categories\").contains(\"Italian\"))\n",
    "df_Italian = df_Italian.withColumn(\"rnk\",rank().over(Window.orderBy(desc(\"stars\"))))\n",
    "\n",
    "df_Italian = df_Italian.filter(col(\"rnk\")==1).select(\"name\",\"city\",\"state\",\"stars\")\n"
   ]
  },
  {
   "cell_type": "code",
   "execution_count": 0,
   "metadata": {
    "application/vnd.databricks.v1+cell": {
     "cellMetadata": {},
     "inputWidgets": {},
     "nuid": "9c1c767c-f579-43fe-8162-6f0df8dfb9fb",
     "showTitle": false,
     "title": ""
    }
   },
   "outputs": [],
   "source": []
  }
 ],
 "metadata": {
  "application/vnd.databricks.v1+notebook": {
   "dashboards": [],
   "environmentMetadata": null,
   "language": "python",
   "notebookMetadata": {
    "mostRecentlyExecutedCommandWithImplicitDF": {
     "commandId": 122620577598901,
     "dataframes": [
      "_sqldf"
     ]
    },
    "pythonIndentUnit": 4
   },
   "notebookName": "Data Analysis of Yelp Dataset",
   "widgets": {}
  }
 },
 "nbformat": 4,
 "nbformat_minor": 0
}

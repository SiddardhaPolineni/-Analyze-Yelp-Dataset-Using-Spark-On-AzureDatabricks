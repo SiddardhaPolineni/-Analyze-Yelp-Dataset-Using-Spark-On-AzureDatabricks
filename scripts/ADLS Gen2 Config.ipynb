{
 "cells": [
  {
   "cell_type": "code",
   "execution_count": null,
   "metadata": {
    "application/vnd.databricks.v1+cell": {
     "cellMetadata": {
      "byteLimit": 2048000,
      "rowLimit": 10000
     },
     "inputWidgets": {},
     "nuid": "c175b2e8-4ef3-4caa-814e-a2fae05de019",
     "showTitle": false,
     "title": ""
    }
   },
   "outputs": [],
   "source": [
    "# mount the data from ADLS Gen2 using service principal\n",
    "spark.conf.set(\"fs.azure.account.auth.type.sadataanalysisyelp.dfs.core.windows.net\", \"OAuth\")\n",
    "spark.conf.set(\"fs.azure.account.oauth.provider.type.sadataanalysisyelp.dfs.core.windows.net\", \"org.apache.hadoop.fs.azurebfs.oauth2.ClientCredsTokenProvider\")\n",
    "spark.conf.set(\"fs.azure.account.oauth2.client.id.sadataanalysisyelp.dfs.core.windows.net\", \"<application-id>\")\n",
    "spark.conf.set(\"fs.azure.account.oauth2.client.secret.sadataanalysisyelp.dfs.core.windows.net\", service credentials)\n",
    "spark.conf.set(\"fs.azure.account.oauth2.client.endpoint.sadataanalysisyelp.dfs.core.windows.net\", \"https://login.microsoftonline.com/<directory-id>/oauth2/token\")"
   ]
  }
 ],
 "metadata": {
  "application/vnd.databricks.v1+notebook": {
   "dashboards": [],
   "environmentMetadata": null,
   "language": "python",
   "notebookMetadata": {
    "pythonIndentUnit": 4
   },
   "notebookName": "ADLS Gen2 Config",
   "widgets": {}
  },
  "language_info": {
   "name": "python"
  }
 },
 "nbformat": 4,
 "nbformat_minor": 0
}

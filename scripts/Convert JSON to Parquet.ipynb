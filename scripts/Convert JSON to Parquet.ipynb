{
 "cells": [
  {
   "cell_type": "markdown",
   "metadata": {
    "application/vnd.databricks.v1+cell": {
     "cellMetadata": {},
     "inputWidgets": {},
     "nuid": "2500b7d5-c05d-4871-af88-e72c2f6ab8ec",
     "showTitle": false,
     "title": ""
    }
   },
   "source": [
    "#### Convert data from JSON format to Parquet"
   ]
  },
  {
   "cell_type": "code",
   "execution_count": 0,
   "metadata": {
    "application/vnd.databricks.v1+cell": {
     "cellMetadata": {},
     "inputWidgets": {},
     "nuid": "5f085464-007e-4265-aa8f-38d5f814fde0",
     "showTitle": false,
     "title": ""
    }
   },
   "outputs": [],
   "source": [
    "# Convert business data into parquet\n",
    "\n",
    "df_business = spark.read.json(\"abfss://raw@sadataanalysisyelp.dfs.core.windows.net/yelp_academic_dataset_business.json\")\n",
    "df_business.write.mode(\"overwrite\").parquet(\"abfss://raw@sadataanalysisyelp.dfs.core.windows.net/json_to_parquet/yelp_academic_dataset_business.parquet\")"
   ]
  },
  {
   "cell_type": "code",
   "execution_count": 0,
   "metadata": {
    "application/vnd.databricks.v1+cell": {
     "cellMetadata": {},
     "inputWidgets": {},
     "nuid": "e035b6e7-f40c-43b0-bcfc-51b90931032b",
     "showTitle": false,
     "title": ""
    }
   },
   "outputs": [],
   "source": [
    "# Convert check in data into parquet\n",
    "\n",
    "df_check_in = spark.read.json(\"abfss://raw@sadataanalysisyelp.dfs.core.windows.net/yelp_academic_dataset_checkin.json\")\n",
    "df_check_in.write.mode(\"overwrite\").parquet(\"abfss://raw@sadataanalysisyelp.dfs.core.windows.net/json_to_parquet/yelp_academic_dataset_checkin.parquet\")"
   ]
  },
  {
   "cell_type": "code",
   "execution_count": 0,
   "metadata": {
    "application/vnd.databricks.v1+cell": {
     "cellMetadata": {},
     "inputWidgets": {},
     "nuid": "de96f7f6-0a6c-42fb-94d5-8ddfb1021976",
     "showTitle": false,
     "title": ""
    }
   },
   "outputs": [],
   "source": [
    "# Convert review data into parquet\n",
    "\n",
    "df_review = spark.read.json(\"abfss://raw@sadataanalysisyelp.dfs.core.windows.net/yelp_academic_dataset_review.json\")\n",
    "df_review.write.mode(\"overwrite\").parquet(\"abfss://raw@sadataanalysisyelp.dfs.core.windows.net/json_to_parquet/yelp_academic_dataset_review.parquet\")"
   ]
  },
  {
   "cell_type": "code",
   "execution_count": 0,
   "metadata": {
    "application/vnd.databricks.v1+cell": {
     "cellMetadata": {},
     "inputWidgets": {},
     "nuid": "4b5af861-3633-4769-a415-29608a860277",
     "showTitle": false,
     "title": ""
    }
   },
   "outputs": [],
   "source": [
    "# Convert tip data into parquet\n",
    "\n",
    "df_tip = spark.read.json(\"abfss://raw@sadataanalysisyelp.dfs.core.windows.net/yelp_academic_dataset_tip.json\")\n",
    "df_tip.write.mode(\"overwrite\").parquet(\"abfss://raw@sadataanalysisyelp.dfs.core.windows.net/json_to_parquet/yelp_academic_dataset_tip.parquet\")"
   ]
  },
  {
   "cell_type": "code",
   "execution_count": 0,
   "metadata": {
    "application/vnd.databricks.v1+cell": {
     "cellMetadata": {},
     "inputWidgets": {},
     "nuid": "0184d787-e1c0-4bae-b5bc-2cf6469d39be",
     "showTitle": false,
     "title": ""
    }
   },
   "outputs": [],
   "source": [
    "# Convert user data into parquet\n",
    "\n",
    "df_user = spark.read.json(\"abfss://raw@sadataanalysisyelp.dfs.core.windows.net/yelp_academic_dataset_user.json\")\n",
    "df_user.write.mode(\"overwrite\").parquet(\"abfss://raw@sadataanalysisyelp.dfs.core.windows.net/json_to_parquet/yelp_academic_dataset_user.parquet\")"
   ]
  }
 ],
 "metadata": {
  "application/vnd.databricks.v1+notebook": {
   "dashboards": [],
   "environmentMetadata": null,
   "language": "python",
   "notebookMetadata": {
    "pythonIndentUnit": 4
   },
   "notebookName": "Convert JSON to Parquet",
   "widgets": {}
  }
 },
 "nbformat": 4,
 "nbformat_minor": 0
}
